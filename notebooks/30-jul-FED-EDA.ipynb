{
 "cells": [
  {
   "cell_type": "code",
   "execution_count": 1,
   "id": "7bcc3ef4-eaa7-4330-ad6f-a99953f16ab4",
   "metadata": {},
   "outputs": [],
   "source": [
    "import pandas as pd\n",
    "import pickle"
   ]
  },
  {
   "cell_type": "code",
   "execution_count": 2,
   "id": "f17aa84c-20cd-4ffe-8691-e406ccc87c49",
   "metadata": {},
   "outputs": [],
   "source": [
    "# Imports\n",
    "import numpy as np\n",
    "import matplotlib\n",
    "from matplotlib import pyplot as plt\n",
    "%matplotlib inline     \n",
    "## use `%matplotlib notebook` for interactive figures\n",
    "# plt.style.use('ggplot')\n",
    "import sklearn\n",
    "\n",
    "import tigramite\n",
    "from tigramite import data_processing as pp\n",
    "from tigramite.toymodels import structural_causal_processes as toys\n",
    "\n",
    "from tigramite import plotting as tp\n",
    "from tigramite.pcmci import PCMCI\n",
    "\n",
    "from tigramite.independence_tests.parcorr import ParCorr\n",
    "from tigramite.independence_tests.robust_parcorr import RobustParCorr\n",
    "from tigramite.independence_tests.parcorr_wls import ParCorrWLS\n",
    "from tigramite.independence_tests.gpdc import GPDC\n",
    "from tigramite.independence_tests.cmiknn import CMIknn\n",
    "from tigramite.independence_tests.cmisymb import CMIsymb\n",
    "from tigramite.independence_tests.gsquared import Gsquared\n",
    "from tigramite.independence_tests.regressionCI import RegressionCI\n",
    "from pandas import read_pickle\n",
    "import plotly.express as px"
   ]
  },
  {
   "cell_type": "code",
   "execution_count": 3,
   "id": "c7cdc5e6-161d-445f-8309-017e62edd5bd",
   "metadata": {},
   "outputs": [],
   "source": [
    "close_prices = read_pickle('/Users/georgii_nigm/Applications/VS Code projects/academic_causal_portfolio/cleaned/close_prices_fed.pkl')"
   ]
  },
  {
   "cell_type": "code",
   "execution_count": 5,
   "id": "219a1fe0-4887-4a1e-b908-dbd42de719b4",
   "metadata": {},
   "outputs": [],
   "source": [
    "close_prices_crop = close_prices.iloc[close_prices.index >'2000-01-01',10:]"
   ]
  },
  {
   "cell_type": "code",
   "execution_count": 22,
   "id": "bfa41d94-016e-4c1c-b6ff-af555aebbf3c",
   "metadata": {},
   "outputs": [
    {
     "data": {
      "text/html": [
       "<div>\n",
       "<style scoped>\n",
       "    .dataframe tbody tr th:only-of-type {\n",
       "        vertical-align: middle;\n",
       "    }\n",
       "\n",
       "    .dataframe tbody tr th {\n",
       "        vertical-align: top;\n",
       "    }\n",
       "\n",
       "    .dataframe thead th {\n",
       "        text-align: right;\n",
       "    }\n",
       "</style>\n",
       "<table border=\"1\" class=\"dataframe\">\n",
       "  <thead>\n",
       "    <tr style=\"text-align: right;\">\n",
       "      <th></th>\n",
       "      <th>PSA</th>\n",
       "      <th>WELL</th>\n",
       "      <th>NEE</th>\n",
       "      <th>DUK</th>\n",
       "      <th>D</th>\n",
       "      <th>SO</th>\n",
       "      <th>EXC</th>\n",
       "      <th>AEP</th>\n",
       "      <th>FEDFUNDS_20230703</th>\n",
       "    </tr>\n",
       "    <tr>\n",
       "      <th>Date</th>\n",
       "      <th></th>\n",
       "      <th></th>\n",
       "      <th></th>\n",
       "      <th></th>\n",
       "      <th></th>\n",
       "      <th></th>\n",
       "      <th></th>\n",
       "      <th></th>\n",
       "      <th></th>\n",
       "    </tr>\n",
       "  </thead>\n",
       "  <tbody>\n",
       "    <tr>\n",
       "      <th>2000-01-03</th>\n",
       "      <td>9.379152</td>\n",
       "      <td>3.650212</td>\n",
       "      <td>2.432440</td>\n",
       "      <td>14.275661</td>\n",
       "      <td>7.313035</td>\n",
       "      <td>4.663520</td>\n",
       "      <td>5.175283</td>\n",
       "      <td>11.244986</td>\n",
       "      <td>5.30</td>\n",
       "    </tr>\n",
       "    <tr>\n",
       "      <th>2000-01-04</th>\n",
       "      <td>9.379152</td>\n",
       "      <td>3.635375</td>\n",
       "      <td>2.476665</td>\n",
       "      <td>14.497560</td>\n",
       "      <td>7.492868</td>\n",
       "      <td>4.714765</td>\n",
       "      <td>5.137091</td>\n",
       "      <td>11.379117</td>\n",
       "      <td>5.30</td>\n",
       "    </tr>\n",
       "    <tr>\n",
       "      <th>2000-01-05</th>\n",
       "      <td>9.456453</td>\n",
       "      <td>3.739242</td>\n",
       "      <td>2.557746</td>\n",
       "      <td>15.089304</td>\n",
       "      <td>7.696674</td>\n",
       "      <td>4.958190</td>\n",
       "      <td>5.385348</td>\n",
       "      <td>11.803882</td>\n",
       "      <td>5.30</td>\n",
       "    </tr>\n",
       "    <tr>\n",
       "      <th>2000-01-06</th>\n",
       "      <td>9.817185</td>\n",
       "      <td>3.932138</td>\n",
       "      <td>2.557746</td>\n",
       "      <td>15.496113</td>\n",
       "      <td>7.780593</td>\n",
       "      <td>4.971004</td>\n",
       "      <td>5.394897</td>\n",
       "      <td>11.870950</td>\n",
       "      <td>5.30</td>\n",
       "    </tr>\n",
       "    <tr>\n",
       "      <th>2000-01-07</th>\n",
       "      <td>9.946029</td>\n",
       "      <td>3.991493</td>\n",
       "      <td>2.631458</td>\n",
       "      <td>15.902940</td>\n",
       "      <td>7.780593</td>\n",
       "      <td>5.060689</td>\n",
       "      <td>5.394897</td>\n",
       "      <td>12.027439</td>\n",
       "      <td>5.30</td>\n",
       "    </tr>\n",
       "    <tr>\n",
       "      <th>...</th>\n",
       "      <td>...</td>\n",
       "      <td>...</td>\n",
       "      <td>...</td>\n",
       "      <td>...</td>\n",
       "      <td>...</td>\n",
       "      <td>...</td>\n",
       "      <td>...</td>\n",
       "      <td>...</td>\n",
       "      <td>...</td>\n",
       "    </tr>\n",
       "    <tr>\n",
       "      <th>2021-12-23</th>\n",
       "      <td>332.725739</td>\n",
       "      <td>79.005417</td>\n",
       "      <td>87.673065</td>\n",
       "      <td>97.089615</td>\n",
       "      <td>72.746956</td>\n",
       "      <td>62.755455</td>\n",
       "      <td>37.019855</td>\n",
       "      <td>82.137115</td>\n",
       "      <td>0.08</td>\n",
       "    </tr>\n",
       "    <tr>\n",
       "      <th>2021-12-27</th>\n",
       "      <td>338.554962</td>\n",
       "      <td>80.198273</td>\n",
       "      <td>88.272385</td>\n",
       "      <td>97.391342</td>\n",
       "      <td>72.831612</td>\n",
       "      <td>63.151558</td>\n",
       "      <td>37.237263</td>\n",
       "      <td>82.668770</td>\n",
       "      <td>0.08</td>\n",
       "    </tr>\n",
       "    <tr>\n",
       "      <th>2021-12-28</th>\n",
       "      <td>340.225739</td>\n",
       "      <td>80.856728</td>\n",
       "      <td>88.813690</td>\n",
       "      <td>98.598251</td>\n",
       "      <td>73.283119</td>\n",
       "      <td>63.877777</td>\n",
       "      <td>37.780773</td>\n",
       "      <td>83.741508</td>\n",
       "      <td>0.08</td>\n",
       "    </tr>\n",
       "    <tr>\n",
       "      <th>2021-12-29</th>\n",
       "      <td>342.061676</td>\n",
       "      <td>81.219360</td>\n",
       "      <td>88.920013</td>\n",
       "      <td>98.777405</td>\n",
       "      <td>73.762825</td>\n",
       "      <td>64.198433</td>\n",
       "      <td>38.487339</td>\n",
       "      <td>84.092766</td>\n",
       "      <td>0.08</td>\n",
       "    </tr>\n",
       "    <tr>\n",
       "      <th>2021-12-30</th>\n",
       "      <td>341.914825</td>\n",
       "      <td>81.973251</td>\n",
       "      <td>89.673988</td>\n",
       "      <td>98.805695</td>\n",
       "      <td>73.809868</td>\n",
       "      <td>64.471939</td>\n",
       "      <td>38.962914</td>\n",
       "      <td>84.197189</td>\n",
       "      <td>0.08</td>\n",
       "    </tr>\n",
       "  </tbody>\n",
       "</table>\n",
       "<p>5535 rows × 9 columns</p>\n",
       "</div>"
      ],
      "text/plain": [
       "                   PSA       WELL        NEE        DUK          D         SO  \\\n",
       "Date                                                                            \n",
       "2000-01-03    9.379152   3.650212   2.432440  14.275661   7.313035   4.663520   \n",
       "2000-01-04    9.379152   3.635375   2.476665  14.497560   7.492868   4.714765   \n",
       "2000-01-05    9.456453   3.739242   2.557746  15.089304   7.696674   4.958190   \n",
       "2000-01-06    9.817185   3.932138   2.557746  15.496113   7.780593   4.971004   \n",
       "2000-01-07    9.946029   3.991493   2.631458  15.902940   7.780593   5.060689   \n",
       "...                ...        ...        ...        ...        ...        ...   \n",
       "2021-12-23  332.725739  79.005417  87.673065  97.089615  72.746956  62.755455   \n",
       "2021-12-27  338.554962  80.198273  88.272385  97.391342  72.831612  63.151558   \n",
       "2021-12-28  340.225739  80.856728  88.813690  98.598251  73.283119  63.877777   \n",
       "2021-12-29  342.061676  81.219360  88.920013  98.777405  73.762825  64.198433   \n",
       "2021-12-30  341.914825  81.973251  89.673988  98.805695  73.809868  64.471939   \n",
       "\n",
       "                  EXC        AEP  FEDFUNDS_20230703  \n",
       "Date                                                 \n",
       "2000-01-03   5.175283  11.244986               5.30  \n",
       "2000-01-04   5.137091  11.379117               5.30  \n",
       "2000-01-05   5.385348  11.803882               5.30  \n",
       "2000-01-06   5.394897  11.870950               5.30  \n",
       "2000-01-07   5.394897  12.027439               5.30  \n",
       "...               ...        ...                ...  \n",
       "2021-12-23  37.019855  82.137115               0.08  \n",
       "2021-12-27  37.237263  82.668770               0.08  \n",
       "2021-12-28  37.780773  83.741508               0.08  \n",
       "2021-12-29  38.487339  84.092766               0.08  \n",
       "2021-12-30  38.962914  84.197189               0.08  \n",
       "\n",
       "[5535 rows x 9 columns]"
      ]
     },
     "execution_count": 22,
     "metadata": {},
     "output_type": "execute_result"
    }
   ],
   "source": [
    "close_prices_crop"
   ]
  },
  {
   "cell_type": "code",
   "execution_count": 26,
   "id": "4666038f-c552-45b0-b1e2-dc79c1ef1e6d",
   "metadata": {},
   "outputs": [],
   "source": [
    "close_prices_crop.index = pd.to_datetime(close_prices_crop.index)"
   ]
  },
  {
   "cell_type": "code",
   "execution_count": 27,
   "id": "20bba2fb-4897-416c-9056-69b5f34a2c88",
   "metadata": {},
   "outputs": [
    {
     "data": {
      "text/plain": [
       "DatetimeIndex(['2000-01-03', '2000-01-04', '2000-01-05', '2000-01-06',\n",
       "               '2000-01-07', '2000-01-10', '2000-01-11', '2000-01-12',\n",
       "               '2000-01-13', '2000-01-14',\n",
       "               ...\n",
       "               '2021-12-16', '2021-12-17', '2021-12-20', '2021-12-21',\n",
       "               '2021-12-22', '2021-12-23', '2021-12-27', '2021-12-28',\n",
       "               '2021-12-29', '2021-12-30'],\n",
       "              dtype='datetime64[ns]', name='Date', length=5535, freq=None)"
      ]
     },
     "execution_count": 27,
     "metadata": {},
     "output_type": "execute_result"
    }
   ],
   "source": [
    "close_prices_crop.index"
   ]
  },
  {
   "cell_type": "code",
   "execution_count": 29,
   "id": "49e4f16c-afdc-476a-8701-771d3cd78d0e",
   "metadata": {},
   "outputs": [],
   "source": [
    "filtered_df = close_prices_crop[close_prices_crop.index.day == 1]"
   ]
  },
  {
   "cell_type": "code",
   "execution_count": 30,
   "id": "dcd615ca-b20d-4d26-9e46-d270c8706adc",
   "metadata": {},
   "outputs": [
    {
     "ename": "NameError",
     "evalue": "name 'v' is not defined",
     "output_type": "error",
     "traceback": [
      "\u001b[0;31m---------------------------------------------------------------------------\u001b[0m",
      "\u001b[0;31mNameError\u001b[0m                                 Traceback (most recent call last)",
      "Cell \u001b[0;32mIn[30], line 1\u001b[0m\n\u001b[0;32m----> 1\u001b[0m \u001b[43mv\u001b[49m\n",
      "\u001b[0;31mNameError\u001b[0m: name 'v' is not defined"
     ]
    }
   ],
   "source": [
    "filtered_df"
   ]
  },
  {
   "cell_type": "code",
   "execution_count": 28,
   "id": "139c5df8-a616-40a5-9551-b5e74ac62fdd",
   "metadata": {},
   "outputs": [],
   "source": []
  },
  {
   "cell_type": "code",
   "execution_count": 8,
   "id": "267b5314-4f4a-4bce-95de-127dcffda6ef",
   "metadata": {},
   "outputs": [
    {
     "data": {
      "text/plain": [
       "(<Figure size 640x480 with 9 Axes>,\n",
       " array([<Axes: ylabel='PSA'>, <Axes: ylabel='WELL'>, <Axes: ylabel='NEE'>,\n",
       "        <Axes: ylabel='DUK'>, <Axes: ylabel='D'>, <Axes: ylabel='SO'>,\n",
       "        <Axes: ylabel='EXC'>, <Axes: ylabel='AEP'>,\n",
       "        <Axes: ylabel='FEDFUNDS_20230703'>], dtype=object))"
      ]
     },
     "execution_count": 8,
     "metadata": {},
     "output_type": "execute_result"
    },
    {
     "data": {
      "image/png": "[encoded data removed]",
      "text/plain": [
       "<Figure size 640x480 with 9 Axes>"
      ]
     },
     "metadata": {},
     "output_type": "display_data"
    }
   ],
   "source": [
    "var_names=close_prices_crop.columns\n",
    "dataframe = pp.DataFrame(close_prices_crop.values, var_names=var_names)\n",
    "tp.plot_timeseries(dataframe)"
   ]
  },
  {
   "cell_type": "markdown",
   "id": "c1d9619e-8e84-487f-8c3c-f42470f00ef8",
   "metadata": {},
   "source": [
    "# Stationarizing"
   ]
  },
  {
   "cell_type": "code",
   "execution_count": null,
   "id": "e1f6305e-dcf0-42eb-ba13-1a6055c42099",
   "metadata": {},
   "outputs": [],
   "source": [
    "df_train = close_prices_crop"
   ]
  },
  {
   "cell_type": "code",
   "execution_count": null,
   "id": "1fd6bb04-24a6-462d-bddb-f8d7216b5aef",
   "metadata": {},
   "outputs": [],
   "source": [
    "from statsmodels.tsa.stattools import adfuller\n",
    "from statsmodels.tsa.stattools import kpss\n",
    "\n",
    "def adf_test(df):\n",
    "    print('if p>0,5 - than ts is non-stationary\\n')\n",
    "    \n",
    "    for stock in df.columns:\n",
    "        result = adfuller(df[stock].values)\n",
    "        if result[1] < 0.05:\n",
    "            print(f'{stock}: stationary. p-value: %f' % result[1])\n",
    "        if result[1] >= 0.05:\n",
    "            print(f'{stock}: Non-Stationary. p-value: %f' % result[1])\n",
    "\n",
    "\n",
    "    # print('ADF Statistics: %f' % result[0])\n",
    "    # print('p-value: %f' % result[1])\n",
    "    # print('Critical values:')\n",
    "    # for key, value in result[4].items():\n",
    "    #     print('\\t%s: %.3f' % (key, value))\n",
    "\n",
    "\n",
    "def kpss_test(df):    \n",
    "    statistic, p_value, n_lags, critical_values = kpss(df.values)\n",
    "    \n",
    "    print(f'KPSS Statistic: {statistic}')\n",
    "    print(f'p-value: {p_value}')\n",
    "    print(f'num lags: {n_lags}')\n",
    "    print('Critial Values:')\n",
    "    for key, value in critical_values.items():\n",
    "        print(f'   {key} : {value}')"
   ]
  },
  {
   "cell_type": "code",
   "execution_count": null,
   "id": "49dc1f5c-92ca-43f8-92f9-7c3c50b71523",
   "metadata": {},
   "outputs": [],
   "source": [
    "adf_test(close_prices_crop)"
   ]
  },
  {
   "cell_type": "code",
   "execution_count": null,
   "id": "c8bf5819-3fb2-400f-9fea-e4d9818b0966",
   "metadata": {},
   "outputs": [],
   "source": [
    "df_train_transformed = df_train#.diff().dropna()"
   ]
  },
  {
   "cell_type": "code",
   "execution_count": null,
   "id": "1cba25d3-f8a8-4292-bf47-9529d3b8c6b9",
   "metadata": {},
   "outputs": [],
   "source": [
    "adf_test(df_train_transformed)"
   ]
  },
  {
   "cell_type": "markdown",
   "id": "e362666b-c04e-4f0e-aa3e-4436c6c2f5c1",
   "metadata": {},
   "source": [
    "# VAR"
   ]
  },
  {
   "cell_type": "code",
   "execution_count": null,
   "id": "e5ee4909-61bb-4624-a4af-afccadb16d2a",
   "metadata": {},
   "outputs": [],
   "source": []
  },
  {
   "cell_type": "code",
   "execution_count": null,
   "id": "dfd962ad-7355-4a21-9ed9-afab50224989",
   "metadata": {},
   "outputs": [],
   "source": [
    "from statsmodels.tsa.api import VAR"
   ]
  },
  {
   "cell_type": "code",
   "execution_count": null,
   "id": "ee45a2f2-0267-4a2a-96b6-dc3d7cfa0240",
   "metadata": {},
   "outputs": [],
   "source": [
    "# model = VAR(df_train_transformed)\n",
    "# for i in [2*x for x in [1,2,3,4,5,6,7,8,9,10,11,12,13,14,15]]:\n",
    "#     result = model.fit(i)\n",
    "#     print('Lag Order =', i)\n",
    "#     print('AIC : ', result.aic)\n",
    "#     print('BIC : ', result.bic)\n",
    "#     print('FPE : ', result.fpe)\n",
    "#     print('HQIC: ', result.hqic, '\\n')"
   ]
  },
  {
   "cell_type": "code",
   "execution_count": null,
   "id": "8160d8ac-88f0-435e-b116-adff0472bacc",
   "metadata": {},
   "outputs": [],
   "source": [
    "results = model.fit(maxlags=1, ic='aic')\n",
    "results.summary()"
   ]
  },
  {
   "cell_type": "code",
   "execution_count": null,
   "id": "370d319e-20c2-4365-8519-88ea905ac190",
   "metadata": {},
   "outputs": [],
   "source": [
    "results.resid_corr"
   ]
  },
  {
   "cell_type": "code",
   "execution_count": null,
   "id": "2cd590fd-3ce5-45fc-9706-390b380772f8",
   "metadata": {},
   "outputs": [],
   "source": [
    "from statsmodels.stats.stattools import durbin_watson\n",
    "\n",
    "out = durbin_watson(results.resid)\n",
    "\n",
    "for col, val in zip(df_train_transformed.columns, out):\n",
    "    print(col, ':', round(val, 2))"
   ]
  },
  {
   "cell_type": "code",
   "execution_count": null,
   "id": "c486ae0a-a7f0-4994-94b7-4dca5204a6ec",
   "metadata": {},
   "outputs": [],
   "source": [
    "from statsmodels.tsa.stattools import grangercausalitytests\n",
    "\n",
    "maxlag=15\n",
    "test = 'ssr_chi2test'\n",
    "\n",
    "def grangers_causation_matrix(data, variables, test='ssr_chi2test', verbose=False):    \n",
    "   \n",
    "    df = pd.DataFrame(np.zeros((len(variables), len(variables))), columns=variables, index=variables)\n",
    "    for c in df.columns:\n",
    "        for r in df.index:\n",
    "            test_result = grangercausalitytests(data[[r, c]], maxlag=maxlag, verbose=False)\n",
    "            p_values = [round(test_result[i+1][0][test][1],4) for i in range(maxlag)]\n",
    "            if verbose: print(f'Y = {r}, X = {c}, P Values = {p_values}')\n",
    "            min_p_value = np.min(p_values)\n",
    "            df.loc[r, c] = min_p_value\n",
    "    df.columns = [var + '_x' for var in variables]\n",
    "    df.index = [var + '_y' for var in variables]\n",
    "    return df\n",
    "\n",
    "grangers_causation_matrix(df_train_transformed, variables = df_train_transformed.columns)"
   ]
  },
  {
   "cell_type": "code",
   "execution_count": null,
   "id": "00ac622b-9aaa-47d9-ac3d-3c72f73e4868",
   "metadata": {},
   "outputs": [],
   "source": []
  }
 ],
 "metadata": {
  "kernelspec": {
   "display_name": "Python 3 (ipykernel)",
   "language": "python",
   "name": "python3"
  },
  "language_info": {
   "codemirror_mode": {
    "name": "ipython",
    "version": 3
   },
   "file_extension": ".py",
   "mimetype": "text/x-python",
   "name": "python",
   "nbconvert_exporter": "python",
   "pygments_lexer": "ipython3",
   "version": "3.8.10"
  }
 },
 "nbformat": 4,
 "nbformat_minor": 5
}
