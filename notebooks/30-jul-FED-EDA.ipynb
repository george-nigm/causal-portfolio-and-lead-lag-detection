{
 "cells": [
  {
   "cell_type": "code",
   "execution_count": 1,
   "id": "7bcc3ef4-eaa7-4330-ad6f-a99953f16ab4",
   "metadata": {},
   "outputs": [],
   "source": [
    "import pandas as pd\n",
    "import pickle"
   ]
  },
  {
   "cell_type": "code",
   "execution_count": 2,
   "id": "f17aa84c-20cd-4ffe-8691-e406ccc87c49",
   "metadata": {},
   "outputs": [],
   "source": [
    "# Imports\n",
    "import numpy as np\n",
    "import matplotlib\n",
    "from matplotlib import pyplot as plt\n",
    "%matplotlib inline     \n",
    "## use `%matplotlib notebook` for interactive figures\n",
    "# plt.style.use('ggplot')\n",
    "import sklearn\n",
    "\n",
    "import tigramite\n",
    "from tigramite import data_processing as pp\n",
    "from tigramite.toymodels import structural_causal_processes as toys\n",
    "\n",
    "from tigramite import plotting as tp\n",
    "from tigramite.pcmci import PCMCI\n",
    "\n",
    "from tigramite.independence_tests.parcorr import ParCorr\n",
    "from tigramite.independence_tests.robust_parcorr import RobustParCorr\n",
    "from tigramite.independence_tests.parcorr_wls import ParCorrWLS\n",
    "from tigramite.independence_tests.gpdc import GPDC\n",
    "from tigramite.independence_tests.cmiknn import CMIknn\n",
    "from tigramite.independence_tests.cmisymb import CMIsymb\n",
    "from tigramite.independence_tests.gsquared import Gsquared\n",
    "from tigramite.independence_tests.regressionCI import RegressionCI\n",
    "from pandas import read_pickle\n",
    "import plotly.express as px"
   ]
  },
  {
   "cell_type": "code",
   "execution_count": 3,
   "id": "c7cdc5e6-161d-445f-8309-017e62edd5bd",
   "metadata": {},
   "outputs": [],
   "source": [
    "close_prices = read_pickle('/Users/georgii_nigm/Applications/VS Code projects/academic_causal_portfolio/cleaned/close_prices_fed.pkl')"
   ]
  },
  {
   "cell_type": "code",
   "execution_count": 4,
   "id": "219a1fe0-4887-4a1e-b908-dbd42de719b4",
   "metadata": {},
   "outputs": [
    {
     "ename": "NameError",
     "evalue": "name 'close_prices_crop' is not defined",
     "output_type": "error",
     "traceback": [
      "\u001b[0;31m---------------------------------------------------------------------------\u001b[0m",
      "\u001b[0;31mNameError\u001b[0m                                 Traceback (most recent call last)",
      "Cell \u001b[0;32mIn[4], line 1\u001b[0m\n\u001b[0;32m----> 1\u001b[0m close_prices_crop \u001b[38;5;241m=\u001b[39m close_prices\u001b[38;5;241m.\u001b[39miloc[\u001b[43mclose_prices_crop\u001b[49m\u001b[38;5;241m.\u001b[39mindex \u001b[38;5;241m>\u001b[39m\u001b[38;5;124m'\u001b[39m\u001b[38;5;124m2000-01-01\u001b[39m\u001b[38;5;124m'\u001b[39m,\u001b[38;5;241m10\u001b[39m:]\n",
      "\u001b[0;31mNameError\u001b[0m: name 'close_prices_crop' is not defined"
     ]
    }
   ],
   "source": [
    "close_prices_crop = close_prices.iloc[close_prices_crop.index >'2000-01-01',10:]"
   ]
  },
  {
   "cell_type": "code",
   "execution_count": null,
   "id": "bfa41d94-016e-4c1c-b6ff-af555aebbf3c",
   "metadata": {},
   "outputs": [],
   "source": [
    "close_prices_crop"
   ]
  },
  {
   "cell_type": "code",
   "execution_count": null,
   "id": "267b5314-4f4a-4bce-95de-127dcffda6ef",
   "metadata": {},
   "outputs": [],
   "source": [
    "var_names=close_prices_crop.columns\n",
    "dataframe = pp.DataFrame(close_prices_crop.values, var_names=var_names)\n",
    "tp.plot_timeseries(dataframe)"
   ]
  },
  {
   "cell_type": "markdown",
   "id": "c1d9619e-8e84-487f-8c3c-f42470f00ef8",
   "metadata": {},
   "source": [
    "# Stationarizing"
   ]
  },
  {
   "cell_type": "code",
   "execution_count": null,
   "id": "e1f6305e-dcf0-42eb-ba13-1a6055c42099",
   "metadata": {},
   "outputs": [],
   "source": [
    "df_train = close_prices_crop"
   ]
  },
  {
   "cell_type": "code",
   "execution_count": null,
   "id": "1fd6bb04-24a6-462d-bddb-f8d7216b5aef",
   "metadata": {},
   "outputs": [],
   "source": [
    "from statsmodels.tsa.stattools import adfuller\n",
    "from statsmodels.tsa.stattools import kpss\n",
    "\n",
    "def adf_test(df):\n",
    "    print('if p>0,5 - than ts is non-stationary\\n')\n",
    "    \n",
    "    for stock in df.columns:\n",
    "        result = adfuller(df[stock].values)\n",
    "        if result[1] < 0.05:\n",
    "            print(f'{stock}: stationary. p-value: %f' % result[1])\n",
    "        if result[1] >= 0.05:\n",
    "            print(f'{stock}: Non-Stationary. p-value: %f' % result[1])\n",
    "\n",
    "\n",
    "    # print('ADF Statistics: %f' % result[0])\n",
    "    # print('p-value: %f' % result[1])\n",
    "    # print('Critical values:')\n",
    "    # for key, value in result[4].items():\n",
    "    #     print('\\t%s: %.3f' % (key, value))\n",
    "\n",
    "\n",
    "def kpss_test(df):    \n",
    "    statistic, p_value, n_lags, critical_values = kpss(df.values)\n",
    "    \n",
    "    print(f'KPSS Statistic: {statistic}')\n",
    "    print(f'p-value: {p_value}')\n",
    "    print(f'num lags: {n_lags}')\n",
    "    print('Critial Values:')\n",
    "    for key, value in critical_values.items():\n",
    "        print(f'   {key} : {value}')"
   ]
  },
  {
   "cell_type": "code",
   "execution_count": null,
   "id": "49dc1f5c-92ca-43f8-92f9-7c3c50b71523",
   "metadata": {},
   "outputs": [],
   "source": [
    "adf_test(close_prices_crop)"
   ]
  },
  {
   "cell_type": "code",
   "execution_count": null,
   "id": "c8bf5819-3fb2-400f-9fea-e4d9818b0966",
   "metadata": {},
   "outputs": [],
   "source": [
    "df_train_transformed = df_train#.diff().dropna()"
   ]
  },
  {
   "cell_type": "code",
   "execution_count": null,
   "id": "1cba25d3-f8a8-4292-bf47-9529d3b8c6b9",
   "metadata": {},
   "outputs": [],
   "source": [
    "adf_test(df_train_transformed)"
   ]
  },
  {
   "cell_type": "markdown",
   "id": "e362666b-c04e-4f0e-aa3e-4436c6c2f5c1",
   "metadata": {},
   "source": [
    "# VAR"
   ]
  },
  {
   "cell_type": "code",
   "execution_count": null,
   "id": "e5ee4909-61bb-4624-a4af-afccadb16d2a",
   "metadata": {},
   "outputs": [],
   "source": []
  },
  {
   "cell_type": "code",
   "execution_count": null,
   "id": "dfd962ad-7355-4a21-9ed9-afab50224989",
   "metadata": {},
   "outputs": [],
   "source": [
    "from statsmodels.tsa.api import VAR"
   ]
  },
  {
   "cell_type": "code",
   "execution_count": null,
   "id": "ee45a2f2-0267-4a2a-96b6-dc3d7cfa0240",
   "metadata": {},
   "outputs": [],
   "source": [
    "# model = VAR(df_train_transformed)\n",
    "# for i in [2*x for x in [1,2,3,4,5,6,7,8,9,10,11,12,13,14,15]]:\n",
    "#     result = model.fit(i)\n",
    "#     print('Lag Order =', i)\n",
    "#     print('AIC : ', result.aic)\n",
    "#     print('BIC : ', result.bic)\n",
    "#     print('FPE : ', result.fpe)\n",
    "#     print('HQIC: ', result.hqic, '\\n')"
   ]
  },
  {
   "cell_type": "code",
   "execution_count": null,
   "id": "8160d8ac-88f0-435e-b116-adff0472bacc",
   "metadata": {},
   "outputs": [],
   "source": [
    "results = model.fit(maxlags=1, ic='aic')\n",
    "results.summary()"
   ]
  },
  {
   "cell_type": "code",
   "execution_count": null,
   "id": "370d319e-20c2-4365-8519-88ea905ac190",
   "metadata": {},
   "outputs": [],
   "source": [
    "results.resid_corr"
   ]
  },
  {
   "cell_type": "code",
   "execution_count": null,
   "id": "2cd590fd-3ce5-45fc-9706-390b380772f8",
   "metadata": {},
   "outputs": [],
   "source": [
    "from statsmodels.stats.stattools import durbin_watson\n",
    "\n",
    "out = durbin_watson(results.resid)\n",
    "\n",
    "for col, val in zip(df_train_transformed.columns, out):\n",
    "    print(col, ':', round(val, 2))"
   ]
  },
  {
   "cell_type": "code",
   "execution_count": null,
   "id": "c486ae0a-a7f0-4994-94b7-4dca5204a6ec",
   "metadata": {},
   "outputs": [],
   "source": [
    "from statsmodels.tsa.stattools import grangercausalitytests\n",
    "\n",
    "maxlag=15\n",
    "test = 'ssr_chi2test'\n",
    "\n",
    "def grangers_causation_matrix(data, variables, test='ssr_chi2test', verbose=False):    \n",
    "   \n",
    "    df = pd.DataFrame(np.zeros((len(variables), len(variables))), columns=variables, index=variables)\n",
    "    for c in df.columns:\n",
    "        for r in df.index:\n",
    "            test_result = grangercausalitytests(data[[r, c]], maxlag=maxlag, verbose=False)\n",
    "            p_values = [round(test_result[i+1][0][test][1],4) for i in range(maxlag)]\n",
    "            if verbose: print(f'Y = {r}, X = {c}, P Values = {p_values}')\n",
    "            min_p_value = np.min(p_values)\n",
    "            df.loc[r, c] = min_p_value\n",
    "    df.columns = [var + '_x' for var in variables]\n",
    "    df.index = [var + '_y' for var in variables]\n",
    "    return df\n",
    "\n",
    "grangers_causation_matrix(df_train_transformed, variables = df_train_transformed.columns)"
   ]
  },
  {
   "cell_type": "code",
   "execution_count": null,
   "id": "00ac622b-9aaa-47d9-ac3d-3c72f73e4868",
   "metadata": {},
   "outputs": [],
   "source": []
  }
 ],
 "metadata": {
  "kernelspec": {
   "display_name": "Python 3 (ipykernel)",
   "language": "python",
   "name": "python3"
  },
  "language_info": {
   "codemirror_mode": {
    "name": "ipython",
    "version": 3
   },
   "file_extension": ".py",
   "mimetype": "text/x-python",
   "name": "python",
   "nbconvert_exporter": "python",
   "pygments_lexer": "ipython3",
   "version": "3.8.10"
  }
 },
 "nbformat": 4,
 "nbformat_minor": 5
}
